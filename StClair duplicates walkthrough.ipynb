{
 "cells": [
  {
   "cell_type": "code",
   "execution_count": 1,
   "metadata": {},
   "outputs": [],
   "source": [
    "import csv, pandas"
   ]
  },
  {
   "cell_type": "code",
   "execution_count": 2,
   "metadata": {},
   "outputs": [],
   "source": [
    "windsorfile = 'input/windsor-records.csv'\n",
    "chathamfile = 'input/chatham-records.csv'"
   ]
  },
  {
   "cell_type": "code",
   "execution_count": 34,
   "metadata": {},
   "outputs": [],
   "source": [
    "def check_digit_10(isbn):\n",
    "    assert len(isbn) == 9\n",
    "    sum = 0\n",
    "    for i in range(len(isbn)):\n",
    "        c = int(isbn[i])\n",
    "        w = i + 1\n",
    "        sum += w * c\n",
    "    r = sum % 11\n",
    "    if r == 10: return 'X'\n",
    "    else: return str(r)\n",
    "\n",
    "def check_digit_13(isbn):\n",
    "    assert len(isbn) == 12\n",
    "    sum = 0\n",
    "    for i in range(len(isbn)):\n",
    "        c = int(isbn[i])\n",
    "        if i % 2: w = 3\n",
    "        else: w = 1\n",
    "        sum += w * c\n",
    "    r = 10 - (sum % 10)\n",
    "    if r == 10: return '0'\n",
    "    else: return str(r)\n",
    "\n",
    "def convert_10_to_13(isbn):\n",
    "    assert len(isbn) == 10\n",
    "    prefix = '978' + isbn[:-1]\n",
    "    check = check_digit_13(prefix)\n",
    "    return prefix + check"
   ]
  },
  {
   "cell_type": "code",
   "execution_count": 35,
   "metadata": {},
   "outputs": [
    {
     "data": {
      "text/plain": [
       "'9780525076452'"
      ]
     },
     "execution_count": 35,
     "metadata": {},
     "output_type": "execute_result"
    }
   ],
   "source": [
    "convert_10_to_13('052507645X')"
   ]
  },
  {
   "cell_type": "code",
   "execution_count": 5,
   "metadata": {},
   "outputs": [],
   "source": [
    "chatham_data = pandas.read_csv(chathamfile,index_col=0)"
   ]
  },
  {
   "cell_type": "code",
   "execution_count": 33,
   "metadata": {},
   "outputs": [
    {
     "data": {
      "text/html": [
       "<div>\n",
       "<style scoped>\n",
       "    .dataframe tbody tr th:only-of-type {\n",
       "        vertical-align: middle;\n",
       "    }\n",
       "\n",
       "    .dataframe tbody tr th {\n",
       "        vertical-align: top;\n",
       "    }\n",
       "\n",
       "    .dataframe thead th {\n",
       "        text-align: right;\n",
       "    }\n",
       "</style>\n",
       "<table border=\"1\" class=\"dataframe\">\n",
       "  <thead>\n",
       "    <tr style=\"text-align: right;\">\n",
       "      <th></th>\n",
       "      <th>020$a</th>\n",
       "      <th>245</th>\n",
       "    </tr>\n",
       "    <tr>\n",
       "      <th>001</th>\n",
       "      <th></th>\n",
       "      <th></th>\n",
       "    </tr>\n",
       "  </thead>\n",
       "  <tbody>\n",
       "    <tr>\n",
       "      <th>73</th>\n",
       "      <td>052507645X</td>\n",
       "      <td>Carl Rogers :the man and his ideas.</td>\n",
       "    </tr>\n",
       "  </tbody>\n",
       "</table>\n",
       "</div>"
      ],
      "text/plain": [
       "          020$a                                  245\n",
       "001                                                 \n",
       "73   052507645X  Carl Rogers :the man and his ideas."
      ]
     },
     "execution_count": 33,
     "metadata": {},
     "output_type": "execute_result"
    }
   ],
   "source": [
    "chatham_data.loc[chatham_data['020$a'] == '052507645X']"
   ]
  }
 ],
 "metadata": {
  "kernelspec": {
   "display_name": "Python 3 (ipykernel)",
   "language": "python",
   "name": "python3"
  },
  "language_info": {
   "codemirror_mode": {
    "name": "ipython",
    "version": 3
   },
   "file_extension": ".py",
   "mimetype": "text/x-python",
   "name": "python",
   "nbconvert_exporter": "python",
   "pygments_lexer": "ipython3",
   "version": "3.8.12"
  }
 },
 "nbformat": 4,
 "nbformat_minor": 4
}
