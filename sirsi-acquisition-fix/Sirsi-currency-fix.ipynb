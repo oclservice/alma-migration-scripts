{
 "cells": [
  {
   "cell_type": "code",
   "execution_count": 1,
   "id": "72aa48e3",
   "metadata": {},
   "outputs": [],
   "source": [
    "from lxml import etree"
   ]
  },
  {
   "cell_type": "code",
   "execution_count": 2,
   "id": "620b1603",
   "metadata": {},
   "outputs": [],
   "source": [
    "college = 'Algonquin'\n",
    "\n",
    "infile = 'input/' + college +'_invoices_20211123.xml'\n",
    "outfile = 'output/' + college +'_invoices_fixed_20211123.xml'"
   ]
  },
  {
   "cell_type": "code",
   "execution_count": 3,
   "id": "40847199",
   "metadata": {},
   "outputs": [
    {
     "name": "stdout",
     "output_type": "stream",
     "text": [
      "61\n"
     ]
    }
   ],
   "source": [
    "# Specify the XMLParser with recover option to catch any '&' that \n",
    "# have not been properly escaped in the source file.\n",
    "tree = etree.parse(infile, parser=etree.XMLParser(recover=True))\n",
    "amounts = tree.xpath('//exchangeRate/../vendorAmount')\n",
    "print(len(amounts))"
   ]
  },
  {
   "cell_type": "code",
   "execution_count": 5,
   "id": "436657e3",
   "metadata": {},
   "outputs": [],
   "source": [
    "for amount in amounts:\n",
    "    amount.attrib['currency']='USD'\n",
    "tree.write(outfile, pretty_print=True)"
   ]
  }
 ],
 "metadata": {
  "kernelspec": {
   "display_name": "Python 3 (ipykernel)",
   "language": "python",
   "name": "python3"
  },
  "language_info": {
   "codemirror_mode": {
    "name": "ipython",
    "version": 3
   },
   "file_extension": ".py",
   "mimetype": "text/x-python",
   "name": "python",
   "nbconvert_exporter": "python",
   "pygments_lexer": "ipython3",
   "version": "3.9.7"
  }
 },
 "nbformat": 4,
 "nbformat_minor": 5
}
