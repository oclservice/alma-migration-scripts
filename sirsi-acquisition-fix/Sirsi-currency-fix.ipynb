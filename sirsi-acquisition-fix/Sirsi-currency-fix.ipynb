{
 "cells": [
  {
   "cell_type": "code",
   "execution_count": 1,
   "id": "72aa48e3",
   "metadata": {},
   "outputs": [],
   "source": [
    "from lxml import etree"
   ]
  },
  {
   "cell_type": "code",
   "execution_count": 2,
   "id": "620b1603",
   "metadata": {},
   "outputs": [],
   "source": [
    "college = 'Algonquin'\n",
    "\n",
    "infile = 'input/' + college +'_invoices_20211123.xml'\n",
    "outfile = 'output/' + college +'_invoices_fixed_20211126.xml'"
   ]
  },
  {
   "cell_type": "code",
   "execution_count": 23,
   "id": "40847199",
   "metadata": {},
   "outputs": [],
   "source": [
    "# Specify the XMLParser with recover option to catch any '&' that \n",
    "# have not been properly escaped in the source file.\n",
    "tree = etree.parse(infile, parser=etree.XMLParser(recover=True))\n"
   ]
  },
  {
   "cell_type": "code",
   "execution_count": 24,
   "id": "d7b6a26c",
   "metadata": {},
   "outputs": [],
   "source": [
    "# Start by setting all currency attributes to CAD\n",
    "currencies = tree.xpath('//*[@currency]')\n",
    "for currency in currencies:\n",
    "    currency.attrib['currency']='CAD'"
   ]
  },
  {
   "cell_type": "code",
   "execution_count": 25,
   "id": "436657e3",
   "metadata": {},
   "outputs": [
    {
     "name": "stdout",
     "output_type": "stream",
     "text": [
      "61\n"
     ]
    }
   ],
   "source": [
    "# Where exchangeRate is present, distinguish between native amount and vendor amount\n",
    "converted_amounts = tree.xpath('//exchangeRate')\n",
    "print(len(converted_amounts))\n",
    "\n",
    "for amount in converted_amounts:\n",
    "    if amount.text is not None:\n",
    "        \n",
    "        # Fix exchange rate\n",
    "        forex = 1/float(amount.text)\n",
    "        amount.text = format(forex, '.2f')\n",
    "        \n",
    "        # Specify currency and apply correct exchange rate to native (converted) amount and vendor amount:\n",
    "        native_amounts = amount.xpath('../../..//nativeAmount|../../..//nativeAmountPaid|../../..//amountPaid')\n",
    "        for native in native_amounts:\n",
    "            native.attrib['currency']='CAD'\n",
    "            native.text = format(float(native.text)/forex, '.2f')\n",
    "\n",
    "        converted_amounts = amount.xpath('../../..//vendorAmount|../../..//vendorAmountPaid|../../..//vendorFinalPrice|../../..//remitToVendor')\n",
    "        for converted in converted_amounts:\n",
    "            converted.attrib['currency']='USD'\n",
    "            converted.text = format(float(converted.text)*forex, '.2f')\n",
    "    \n",
    "tree.write(outfile, pretty_print=True)"
   ]
  }
 ],
 "metadata": {
  "kernelspec": {
   "display_name": "Python 3 (ipykernel)",
   "language": "python",
   "name": "python3"
  },
  "language_info": {
   "codemirror_mode": {
    "name": "ipython",
    "version": 3
   },
   "file_extension": ".py",
   "mimetype": "text/x-python",
   "name": "python",
   "nbconvert_exporter": "python",
   "pygments_lexer": "ipython3",
   "version": "3.9.7"
  }
 },
 "nbformat": 4,
 "nbformat_minor": 5
}
