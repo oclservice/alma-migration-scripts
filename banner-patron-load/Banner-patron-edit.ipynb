{
 "cells": [
  {
   "cell_type": "code",
   "execution_count": 4,
   "id": "4e0eb262",
   "metadata": {},
   "outputs": [],
   "source": [
    "from lxml import etree"
   ]
  },
  {
   "cell_type": "code",
   "execution_count": 5,
   "id": "4d95c452",
   "metadata": {},
   "outputs": [],
   "source": [
    "infile = '/Users/thomas/Documents/tmp-nobackup/ocls/Centennial-patron-file.xml'\n",
    "outfolder = '/Users/thomas/Documents/tmp-nobackup/ocls/output/'"
   ]
  },
  {
   "cell_type": "code",
   "execution_count": 7,
   "id": "719e8001",
   "metadata": {},
   "outputs": [],
   "source": [
    "# Specify the XMLParser with recover option to catch any '&' that \n",
    "# have not been properly escaped in the source file.\n",
    "tree = etree.parse(infile, parser=etree.XMLParser(recover=True))\n",
    "root = tree.getroot()\n",
    "\n",
    "counter = 0\n",
    "for record in root.iter(\"user\"):\n",
    "    with open(outfolder + str(counter) + '.xml', 'w') as f:\n",
    "        print(etree.tostring(record).decode('utf-8'), file=f)\n",
    "    counter = counter + 1\n",
    "    if counter > 10:\n",
    "        break"
   ]
  }
 ],
 "metadata": {
  "kernelspec": {
   "display_name": "Python 3 (ipykernel)",
   "language": "python",
   "name": "python3"
  },
  "language_info": {
   "codemirror_mode": {
    "name": "ipython",
    "version": 3
   },
   "file_extension": ".py",
   "mimetype": "text/x-python",
   "name": "python",
   "nbconvert_exporter": "python",
   "pygments_lexer": "ipython3",
   "version": "3.9.7"
  }
 },
 "nbformat": 4,
 "nbformat_minor": 5
}
